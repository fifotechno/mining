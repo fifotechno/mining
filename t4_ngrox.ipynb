{
  "nbformat": 4,
  "nbformat_minor": 0,
  "metadata": {
    "colab": {
      "name": "Untitled0.ipynb",
      "provenance": [],
      "authorship_tag": "ABX9TyMJ9NPlBYZW5tNNxIiWIJbC",
      "include_colab_link": true
    },
    "kernelspec": {
      "name": "python3",
      "display_name": "Python 3"
    },
    "accelerator": "GPU"
  },
  "cells": [
    {
      "cell_type": "markdown",
      "metadata": {
        "id": "view-in-github",
        "colab_type": "text"
      },
      "source": [
        "<a href=\"https://colab.research.google.com/github/fifotechno/mining/blob/main/t4_ngrox.ipynb\" target=\"_parent\"><img src=\"https://colab.research.google.com/assets/colab-badge.svg\" alt=\"Open In Colab\"/></a>"
      ]
    },
    {
      "cell_type": "code",
      "metadata": {
        "colab": {
          "base_uri": "https://localhost:8080/"
        },
        "id": "W6snOYuCjxOR",
        "outputId": "2d6f6f5f-619c-4da9-c4c2-9e02bc9d6842"
      },
      "source": [
        "!nvidia-smi"
      ],
      "execution_count": 1,
      "outputs": [
        {
          "output_type": "stream",
          "text": [
            "Mon Mar  8 11:20:38 2021       \n",
            "+-----------------------------------------------------------------------------+\n",
            "| NVIDIA-SMI 460.39       Driver Version: 460.32.03    CUDA Version: 11.2     |\n",
            "|-------------------------------+----------------------+----------------------+\n",
            "| GPU  Name        Persistence-M| Bus-Id        Disp.A | Volatile Uncorr. ECC |\n",
            "| Fan  Temp  Perf  Pwr:Usage/Cap|         Memory-Usage | GPU-Util  Compute M. |\n",
            "|                               |                      |               MIG M. |\n",
            "|===============================+======================+======================|\n",
            "|   0  Tesla T4            Off  | 00000000:00:04.0 Off |                    0 |\n",
            "| N/A   68C    P8    11W /  70W |      0MiB / 15109MiB |      0%      Default |\n",
            "|                               |                      |                  N/A |\n",
            "+-------------------------------+----------------------+----------------------+\n",
            "                                                                               \n",
            "+-----------------------------------------------------------------------------+\n",
            "| Processes:                                                                  |\n",
            "|  GPU   GI   CI        PID   Type   Process name                  GPU Memory |\n",
            "|        ID   ID                                                   Usage      |\n",
            "|=============================================================================|\n",
            "|  No running processes found                                                 |\n",
            "+-----------------------------------------------------------------------------+\n"
          ],
          "name": "stdout"
        }
      ]
    },
    {
      "cell_type": "code",
      "metadata": {
        "id": "e38pjqPVedOu",
        "cellView": "form"
      },
      "source": [
        "#@title **Create User**\r\n",
        "#@markdown Enter Username and Password\r\n",
        "\r\n",
        "username = \"user\" #@param {type:\"string\"}\r\n",
        "password = \"root\" #@param {type:\"string\"}\r\n",
        "\r\n",
        "print(\"Creating User and Setting it up\")\r\n",
        "\r\n",
        "# Creation of user\r\n",
        "! sudo useradd -m $username &> /dev/null\r\n",
        "\r\n",
        "# Add user to sudo group\r\n",
        "! sudo adduser $username sudo &> /dev/null\r\n",
        "    \r\n",
        "# Set password of user to 'root'\r\n",
        "! echo '$username:$password' | sudo chpasswd\r\n",
        "\r\n",
        "# Change default shell from sh to bash\r\n",
        "! sed -i 's/\\/bin\\/sh/\\/bin\\/bash/g' /etc/passwd\r\n",
        "\r\n",
        "print(\"User Created and Configured\")\r\n",
        "\r\n",
        "#@title **SSH**\r\n",
        "\r\n",
        "! pip install colab_ssh --upgrade &> /dev/null\r\n",
        "\r\n",
        "Ngrok = True #@param {type:'boolean'}\r\n",
        "Agro = False #@param {type:'boolean'}\r\n",
        "\r\n",
        "\r\n",
        "#@markdown Copy authtoken from https://dashboard.ngrok.com/auth (only for ngrok)\r\n",
        "ngrokToken = \"\" #@param {type:'string'}\r\n",
        "\r\n",
        "\r\n",
        "def runNGROK():\r\n",
        "    from colab_ssh import launch_ssh\r\n",
        "    from IPython.display import clear_output\r\n",
        "    launch_ssh(ngrokToken, password)\r\n",
        "    clear_output()\r\n",
        "\r\n",
        "    print(\"ssh\", username, end='@')\r\n",
        "    ! curl -s http://localhost:4040/api/tunnels | python3 -c \\\r\n",
        "            \"import sys, json; print(json.load(sys.stdin)['tunnels'][0]['public_url'][6:].replace(':', ' -p '))\"\r\n",
        "\r\n",
        "\r\n",
        "def runAgro():\r\n",
        "    from colab_ssh import launch_ssh_cloudflared\r\n",
        "    launch_ssh_cloudflared(password=password)\r\n",
        "\r\n",
        "\r\n",
        "try:\r\n",
        "    if username:\r\n",
        "        pass\r\n",
        "    elif password:\r\n",
        "        pass\r\n",
        "except NameError:\r\n",
        "    print(\"No user found using username and password as 'root'\")\r\n",
        "    username='root'\r\n",
        "    password='root'\r\n",
        "\r\n",
        "\r\n",
        "if Agro and Ngrok:\r\n",
        "    print(\"You can't do that\")\r\n",
        "    print(\"Select only one of them\")\r\n",
        "elif Agro:\r\n",
        "    runAgro()\r\n",
        "elif Ngrok:\r\n",
        "    if ngrokToken == \"\":\r\n",
        "        print(\"No ngrokToken Found, Please enter it\")\r\n",
        "    else:\r\n",
        "        runNGROK()\r\n",
        "else:\r\n",
        "    print(\"Select one of them\")\r\n",
        "\r\n",
        "! sleep 956859\r\n"
      ],
      "execution_count": null,
      "outputs": []
    }
  ]
}