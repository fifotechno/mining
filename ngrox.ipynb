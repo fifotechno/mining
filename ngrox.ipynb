{
  "nbformat": 4,
  "nbformat_minor": 0,
  "metadata": {
    "colab": {
      "name": "Copy of Salinan dari PyTorch.ipynb",
      "provenance": [],
      "collapsed_sections": [],
      "machine_shape": "hm",
      "include_colab_link": true
    },
    "kernelspec": {
      "name": "python3",
      "display_name": "Python 3"
    },
    "accelerator": "GPU"
  },
  "cells": [
    {
      "cell_type": "markdown",
      "metadata": {
        "id": "view-in-github",
        "colab_type": "text"
      },
      "source": [
        "<a href=\"https://colab.research.google.com/github/fifotechno/mining/blob/main/ngrox.ipynb\" target=\"_parent\"><img src=\"https://colab.research.google.com/assets/colab-badge.svg\" alt=\"Open In Colab\"/></a>"
      ]
    },
    {
      "cell_type": "code",
      "metadata": {
        "id": "e38pjqPVedOu",
        "cellView": "form"
      },
      "source": [
        "#@title **Create User**\r\n",
        "#@markdown Enter Username and Password\r\n",
        "\r\n",
        "username = \"user\" #@param {type:\"string\"}\r\n",
        "password = \"root\" #@param {type:\"string\"}\r\n",
        "\r\n",
        "print(\"Creating User and Setting it up\")\r\n",
        "\r\n",
        "# Creation of user\r\n",
        "! sudo useradd -m $username &> /dev/null\r\n",
        "\r\n",
        "# Add user to sudo group\r\n",
        "! sudo adduser $username sudo &> /dev/null\r\n",
        "    \r\n",
        "# Set password of user to 'root'\r\n",
        "! echo '$username:$password' | sudo chpasswd\r\n",
        "\r\n",
        "# Change default shell from sh to bash\r\n",
        "! sed -i 's/\\/bin\\/sh/\\/bin\\/bash/g' /etc/passwd\r\n",
        "\r\n",
        "print(\"User Created and Configured\")\r\n",
        "\r\n",
        "#@title **SSH**\r\n",
        "\r\n",
        "! pip install colab_ssh --upgrade &> /dev/null\r\n",
        "\r\n",
        "Ngrok = True #@param {type:'boolean'}\r\n",
        "Agro = False #@param {type:'boolean'}\r\n",
        "\r\n",
        "\r\n",
        "#@markdown Copy authtoken from https://dashboard.ngrok.com/auth (only for ngrok)\r\n",
        "ngrokToken = \"\" #@param {type:'string'}\r\n",
        "\r\n",
        "\r\n",
        "def runNGROK():\r\n",
        "    from colab_ssh import launch_ssh\r\n",
        "    from IPython.display import clear_output\r\n",
        "    launch_ssh(ngrokToken, password)\r\n",
        "    clear_output()\r\n",
        "\r\n",
        "    print(\"ssh\", username, end='@')\r\n",
        "    ! curl -s http://localhost:4040/api/tunnels | python3 -c \\\r\n",
        "            \"import sys, json; print(json.load(sys.stdin)['tunnels'][0]['public_url'][6:].replace(':', ' -p '))\"\r\n",
        "\r\n",
        "\r\n",
        "def runAgro():\r\n",
        "    from colab_ssh import launch_ssh_cloudflared\r\n",
        "    launch_ssh_cloudflared(password=password)\r\n",
        "\r\n",
        "\r\n",
        "try:\r\n",
        "    if username:\r\n",
        "        pass\r\n",
        "    elif password:\r\n",
        "        pass\r\n",
        "except NameError:\r\n",
        "    print(\"No user found using username and password as 'root'\")\r\n",
        "    username='root'\r\n",
        "    password='root'\r\n",
        "\r\n",
        "\r\n",
        "if Agro and Ngrok:\r\n",
        "    print(\"You can't do that\")\r\n",
        "    print(\"Select only one of them\")\r\n",
        "elif Agro:\r\n",
        "    runAgro()\r\n",
        "elif Ngrok:\r\n",
        "    if ngrokToken == \"\":\r\n",
        "        print(\"No ngrokToken Found, Please enter it\")\r\n",
        "    else:\r\n",
        "        runNGROK()\r\n",
        "else:\r\n",
        "    print(\"Select one of them\")\r\n",
        "\r\n",
        "! sleep 956859\r\n"
      ],
      "execution_count": null,
      "outputs": []
    }
  ]
}